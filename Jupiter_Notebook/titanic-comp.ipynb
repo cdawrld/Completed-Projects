{
 "cells": [
  {
   "cell_type": "code",
   "execution_count": 1,
   "id": "4edde200",
   "metadata": {
    "_cell_guid": "b1076dfc-b9ad-4769-8c92-a6c4dae69d19",
    "_uuid": "8f2839f25d086af736a60e9eeb907d3b93b6e0e5",
    "execution": {
     "iopub.execute_input": "2025-03-08T14:53:34.044036Z",
     "iopub.status.busy": "2025-03-08T14:53:34.043660Z",
     "iopub.status.idle": "2025-03-08T14:53:35.139170Z",
     "shell.execute_reply": "2025-03-08T14:53:35.137323Z"
    },
    "papermill": {
     "duration": 1.108311,
     "end_time": "2025-03-08T14:53:35.141727",
     "exception": false,
     "start_time": "2025-03-08T14:53:34.033416",
     "status": "completed"
    },
    "tags": []
   },
   "outputs": [
    {
     "name": "stdout",
     "output_type": "stream",
     "text": [
      "/kaggle/input/titanic/train.csv\n",
      "/kaggle/input/titanic/test.csv\n",
      "/kaggle/input/titanic/gender_submission.csv\n"
     ]
    }
   ],
   "source": [
    "# This Python 3 environment comes with many helpful analytics libraries installed\n",
    "# It is defined by the kaggle/python Docker image: https://github.com/kaggle/docker-python\n",
    "# For example, here's several helpful packages to load\n",
    "\n",
    "import numpy as np # linear algebra\n",
    "import pandas as pd # data processing, CSV file I/O (e.g. pd.read_csv)\n",
    "\n",
    "# Input data files are available in the read-only \"../input/\" directory\n",
    "# For example, running this (by clicking run or pressing Shift+Enter) will list all files under the input directory\n",
    "\n",
    "import os\n",
    "for dirname, _, filenames in os.walk('/kaggle/input'):\n",
    "    for filename in filenames:\n",
    "        print(os.path.join(dirname, filename))\n",
    "\n",
    "# You can write up to 20GB to the current directory (/kaggle/working/) that gets preserved as output when you create a version using \"Save & Run All\" \n",
    "# You can also write temporary files to /kaggle/temp/, but they won't be saved outside of the current session"
   ]
  },
  {
   "cell_type": "code",
   "execution_count": 2,
   "id": "7efd20e3",
   "metadata": {
    "execution": {
     "iopub.execute_input": "2025-03-08T14:53:35.160494Z",
     "iopub.status.busy": "2025-03-08T14:53:35.159960Z",
     "iopub.status.idle": "2025-03-08T14:53:37.152540Z",
     "shell.execute_reply": "2025-03-08T14:53:37.150776Z"
    },
    "papermill": {
     "duration": 2.003988,
     "end_time": "2025-03-08T14:53:37.154357",
     "exception": false,
     "start_time": "2025-03-08T14:53:35.150369",
     "status": "completed"
    },
    "tags": []
   },
   "outputs": [],
   "source": [
    "import matplotlib.pyplot as plt\n",
    "import seaborn as sns"
   ]
  },
  {
   "cell_type": "code",
   "execution_count": 3,
   "id": "15a1a1fa",
   "metadata": {
    "execution": {
     "iopub.execute_input": "2025-03-08T14:53:37.170472Z",
     "iopub.status.busy": "2025-03-08T14:53:37.169989Z",
     "iopub.status.idle": "2025-03-08T14:53:37.215511Z",
     "shell.execute_reply": "2025-03-08T14:53:37.213933Z"
    },
    "papermill": {
     "duration": 0.055502,
     "end_time": "2025-03-08T14:53:37.217454",
     "exception": false,
     "start_time": "2025-03-08T14:53:37.161952",
     "status": "completed"
    },
    "tags": []
   },
   "outputs": [
    {
     "data": {
      "text/plain": [
       "Index(['PassengerId', 'Survived', 'Pclass', 'Name', 'Sex', 'Age', 'SibSp',\n",
       "       'Parch', 'Ticket', 'Fare', 'Cabin', 'Embarked', 'train_test'],\n",
       "      dtype='object')"
      ]
     },
     "execution_count": 3,
     "metadata": {},
     "output_type": "execute_result"
    }
   ],
   "source": [
    "training=pd.read_csv('/kaggle/input/titanic/train.csv')\n",
    "test = pd.read_csv('/kaggle/input/titanic/test.csv')\n",
    "\n",
    "training['train_test']=1\n",
    "test['train_test']=0\n",
    "test['Survived'] =np.NaN\n",
    "all_data=pd.concat([training, test])\n",
    "%matplotlib inline\n",
    "all_data.columns"
   ]
  },
  {
   "cell_type": "code",
   "execution_count": 4,
   "id": "1ec12aad",
   "metadata": {
    "execution": {
     "iopub.execute_input": "2025-03-08T14:53:37.235538Z",
     "iopub.status.busy": "2025-03-08T14:53:37.235222Z",
     "iopub.status.idle": "2025-03-08T14:53:37.257698Z",
     "shell.execute_reply": "2025-03-08T14:53:37.256545Z"
    },
    "papermill": {
     "duration": 0.033153,
     "end_time": "2025-03-08T14:53:37.259497",
     "exception": false,
     "start_time": "2025-03-08T14:53:37.226344",
     "status": "completed"
    },
    "tags": []
   },
   "outputs": [
    {
     "name": "stdout",
     "output_type": "stream",
     "text": [
      "<class 'pandas.core.frame.DataFrame'>\n",
      "RangeIndex: 891 entries, 0 to 890\n",
      "Data columns (total 13 columns):\n",
      " #   Column       Non-Null Count  Dtype  \n",
      "---  ------       --------------  -----  \n",
      " 0   PassengerId  891 non-null    int64  \n",
      " 1   Survived     891 non-null    int64  \n",
      " 2   Pclass       891 non-null    int64  \n",
      " 3   Name         891 non-null    object \n",
      " 4   Sex          891 non-null    object \n",
      " 5   Age          714 non-null    float64\n",
      " 6   SibSp        891 non-null    int64  \n",
      " 7   Parch        891 non-null    int64  \n",
      " 8   Ticket       891 non-null    object \n",
      " 9   Fare         891 non-null    float64\n",
      " 10  Cabin        204 non-null    object \n",
      " 11  Embarked     889 non-null    object \n",
      " 12  train_test   891 non-null    int64  \n",
      "dtypes: float64(2), int64(6), object(5)\n",
      "memory usage: 90.6+ KB\n"
     ]
    }
   ],
   "source": [
    "training.info()"
   ]
  },
  {
   "cell_type": "code",
   "execution_count": 5,
   "id": "cc9fde28",
   "metadata": {
    "execution": {
     "iopub.execute_input": "2025-03-08T14:53:37.276163Z",
     "iopub.status.busy": "2025-03-08T14:53:37.275790Z",
     "iopub.status.idle": "2025-03-08T14:53:37.314735Z",
     "shell.execute_reply": "2025-03-08T14:53:37.313798Z"
    },
    "papermill": {
     "duration": 0.048813,
     "end_time": "2025-03-08T14:53:37.316081",
     "exception": false,
     "start_time": "2025-03-08T14:53:37.267268",
     "status": "completed"
    },
    "tags": []
   },
   "outputs": [
    {
     "data": {
      "text/html": [
       "<div>\n",
       "<style scoped>\n",
       "    .dataframe tbody tr th:only-of-type {\n",
       "        vertical-align: middle;\n",
       "    }\n",
       "\n",
       "    .dataframe tbody tr th {\n",
       "        vertical-align: top;\n",
       "    }\n",
       "\n",
       "    .dataframe thead th {\n",
       "        text-align: right;\n",
       "    }\n",
       "</style>\n",
       "<table border=\"1\" class=\"dataframe\">\n",
       "  <thead>\n",
       "    <tr style=\"text-align: right;\">\n",
       "      <th></th>\n",
       "      <th>PassengerId</th>\n",
       "      <th>Survived</th>\n",
       "      <th>Pclass</th>\n",
       "      <th>Age</th>\n",
       "      <th>SibSp</th>\n",
       "      <th>Parch</th>\n",
       "      <th>Fare</th>\n",
       "      <th>train_test</th>\n",
       "    </tr>\n",
       "  </thead>\n",
       "  <tbody>\n",
       "    <tr>\n",
       "      <th>count</th>\n",
       "      <td>891.000000</td>\n",
       "      <td>891.000000</td>\n",
       "      <td>891.000000</td>\n",
       "      <td>714.000000</td>\n",
       "      <td>891.000000</td>\n",
       "      <td>891.000000</td>\n",
       "      <td>891.000000</td>\n",
       "      <td>891.0</td>\n",
       "    </tr>\n",
       "    <tr>\n",
       "      <th>mean</th>\n",
       "      <td>446.000000</td>\n",
       "      <td>0.383838</td>\n",
       "      <td>2.308642</td>\n",
       "      <td>29.699118</td>\n",
       "      <td>0.523008</td>\n",
       "      <td>0.381594</td>\n",
       "      <td>32.204208</td>\n",
       "      <td>1.0</td>\n",
       "    </tr>\n",
       "    <tr>\n",
       "      <th>std</th>\n",
       "      <td>257.353842</td>\n",
       "      <td>0.486592</td>\n",
       "      <td>0.836071</td>\n",
       "      <td>14.526497</td>\n",
       "      <td>1.102743</td>\n",
       "      <td>0.806057</td>\n",
       "      <td>49.693429</td>\n",
       "      <td>0.0</td>\n",
       "    </tr>\n",
       "    <tr>\n",
       "      <th>min</th>\n",
       "      <td>1.000000</td>\n",
       "      <td>0.000000</td>\n",
       "      <td>1.000000</td>\n",
       "      <td>0.420000</td>\n",
       "      <td>0.000000</td>\n",
       "      <td>0.000000</td>\n",
       "      <td>0.000000</td>\n",
       "      <td>1.0</td>\n",
       "    </tr>\n",
       "    <tr>\n",
       "      <th>25%</th>\n",
       "      <td>223.500000</td>\n",
       "      <td>0.000000</td>\n",
       "      <td>2.000000</td>\n",
       "      <td>20.125000</td>\n",
       "      <td>0.000000</td>\n",
       "      <td>0.000000</td>\n",
       "      <td>7.910400</td>\n",
       "      <td>1.0</td>\n",
       "    </tr>\n",
       "    <tr>\n",
       "      <th>50%</th>\n",
       "      <td>446.000000</td>\n",
       "      <td>0.000000</td>\n",
       "      <td>3.000000</td>\n",
       "      <td>28.000000</td>\n",
       "      <td>0.000000</td>\n",
       "      <td>0.000000</td>\n",
       "      <td>14.454200</td>\n",
       "      <td>1.0</td>\n",
       "    </tr>\n",
       "    <tr>\n",
       "      <th>75%</th>\n",
       "      <td>668.500000</td>\n",
       "      <td>1.000000</td>\n",
       "      <td>3.000000</td>\n",
       "      <td>38.000000</td>\n",
       "      <td>1.000000</td>\n",
       "      <td>0.000000</td>\n",
       "      <td>31.000000</td>\n",
       "      <td>1.0</td>\n",
       "    </tr>\n",
       "    <tr>\n",
       "      <th>max</th>\n",
       "      <td>891.000000</td>\n",
       "      <td>1.000000</td>\n",
       "      <td>3.000000</td>\n",
       "      <td>80.000000</td>\n",
       "      <td>8.000000</td>\n",
       "      <td>6.000000</td>\n",
       "      <td>512.329200</td>\n",
       "      <td>1.0</td>\n",
       "    </tr>\n",
       "  </tbody>\n",
       "</table>\n",
       "</div>"
      ],
      "text/plain": [
       "       PassengerId    Survived      Pclass         Age       SibSp  \\\n",
       "count   891.000000  891.000000  891.000000  714.000000  891.000000   \n",
       "mean    446.000000    0.383838    2.308642   29.699118    0.523008   \n",
       "std     257.353842    0.486592    0.836071   14.526497    1.102743   \n",
       "min       1.000000    0.000000    1.000000    0.420000    0.000000   \n",
       "25%     223.500000    0.000000    2.000000   20.125000    0.000000   \n",
       "50%     446.000000    0.000000    3.000000   28.000000    0.000000   \n",
       "75%     668.500000    1.000000    3.000000   38.000000    1.000000   \n",
       "max     891.000000    1.000000    3.000000   80.000000    8.000000   \n",
       "\n",
       "            Parch        Fare  train_test  \n",
       "count  891.000000  891.000000       891.0  \n",
       "mean     0.381594   32.204208         1.0  \n",
       "std      0.806057   49.693429         0.0  \n",
       "min      0.000000    0.000000         1.0  \n",
       "25%      0.000000    7.910400         1.0  \n",
       "50%      0.000000   14.454200         1.0  \n",
       "75%      0.000000   31.000000         1.0  \n",
       "max      6.000000  512.329200         1.0  "
      ]
     },
     "execution_count": 5,
     "metadata": {},
     "output_type": "execute_result"
    }
   ],
   "source": [
    "training.describe()"
   ]
  },
  {
   "cell_type": "code",
   "execution_count": 6,
   "id": "3c93578d",
   "metadata": {
    "execution": {
     "iopub.execute_input": "2025-03-08T14:53:37.336723Z",
     "iopub.status.busy": "2025-03-08T14:53:37.336418Z",
     "iopub.status.idle": "2025-03-08T14:53:37.355138Z",
     "shell.execute_reply": "2025-03-08T14:53:37.354071Z"
    },
    "papermill": {
     "duration": 0.030832,
     "end_time": "2025-03-08T14:53:37.356486",
     "exception": false,
     "start_time": "2025-03-08T14:53:37.325654",
     "status": "completed"
    },
    "tags": []
   },
   "outputs": [
    {
     "data": {
      "text/plain": [
       "Index(['PassengerId', 'Survived', 'Pclass', 'Age', 'SibSp', 'Parch', 'Fare',\n",
       "       'train_test'],\n",
       "      dtype='object')"
      ]
     },
     "execution_count": 6,
     "metadata": {},
     "output_type": "execute_result"
    }
   ],
   "source": [
    "training.describe().columns"
   ]
  },
  {
   "cell_type": "code",
   "execution_count": 7,
   "id": "84b4a639",
   "metadata": {
    "execution": {
     "iopub.execute_input": "2025-03-08T14:53:37.373653Z",
     "iopub.status.busy": "2025-03-08T14:53:37.373333Z",
     "iopub.status.idle": "2025-03-08T14:53:37.382761Z",
     "shell.execute_reply": "2025-03-08T14:53:37.381270Z"
    },
    "papermill": {
     "duration": 0.020228,
     "end_time": "2025-03-08T14:53:37.384761",
     "exception": false,
     "start_time": "2025-03-08T14:53:37.364533",
     "status": "completed"
    },
    "tags": []
   },
   "outputs": [],
   "source": [
    "df_num = training[['Age','SibSp','Parch','Fare']]\n",
    "df_cat = training[['Survived','Pclass','Sex','Ticket','Cabin', 'Embarked']]"
   ]
  },
  {
   "cell_type": "code",
   "execution_count": 8,
   "id": "9c77d79d",
   "metadata": {
    "execution": {
     "iopub.execute_input": "2025-03-08T14:53:37.404651Z",
     "iopub.status.busy": "2025-03-08T14:53:37.404328Z",
     "iopub.status.idle": "2025-03-08T14:53:38.139075Z",
     "shell.execute_reply": "2025-03-08T14:53:38.138062Z"
    },
    "papermill": {
     "duration": 0.746567,
     "end_time": "2025-03-08T14:53:38.141021",
     "exception": false,
     "start_time": "2025-03-08T14:53:37.394454",
     "status": "completed"
    },
    "tags": []
   },
   "outputs": [
    {
     "name": "stderr",
     "output_type": "stream",
     "text": [
      "/usr/local/lib/python3.10/dist-packages/numpy/lib/histograms.py:825: RuntimeWarning: invalid value encountered in greater_equal\n",
      "  keep = (tmp_a >= first_edge)\n",
      "/usr/local/lib/python3.10/dist-packages/numpy/lib/histograms.py:826: RuntimeWarning: invalid value encountered in less_equal\n",
      "  keep &= (tmp_a <= last_edge)\n"
     ]
    },
    {
     "data": {
      "image/png": "[encoded data removed]",
      "text/plain": [
       "<Figure size 640x480 with 1 Axes>"
      ]
     },
     "metadata": {},
     "output_type": "display_data"
    },
    {
     "data": {
      "image/png": "[encoded data removed]",
      "text/plain": [
       "<Figure size 640x480 with 1 Axes>"
      ]
     },
     "metadata": {},
     "output_type": "display_data"
    },
    {
     "data": {
      "image/png": "[encoded data removed]",
      "text/plain": [
       "<Figure size 640x480 with 1 Axes>"
      ]
     },
     "metadata": {},
     "output_type": "display_data"
    },
    {
     "data": {
      "image/png": "[encoded data removed]",
      "text/plain": [
       "<Figure size 640x480 with 1 Axes>"
      ]
     },
     "metadata": {},
     "output_type": "display_data"
    }
   ],
   "source": [
    "for i in df_num.columns:\n",
    "    plt.hist(df_num[i])\n",
    "    plt.title(i)\n",
    "    plt.show()"
   ]
  },
  {
   "cell_type": "code",
   "execution_count": 9,
   "id": "751fb6c9",
   "metadata": {
    "execution": {
     "iopub.execute_input": "2025-03-08T14:53:38.164550Z",
     "iopub.status.busy": "2025-03-08T14:53:38.164240Z",
     "iopub.status.idle": "2025-03-08T14:53:38.397382Z",
     "shell.execute_reply": "2025-03-08T14:53:38.395364Z"
    },
    "papermill": {
     "duration": 0.249395,
     "end_time": "2025-03-08T14:53:38.399692",
     "exception": false,
     "start_time": "2025-03-08T14:53:38.150297",
     "status": "completed"
    },
    "tags": []
   },
   "outputs": [
    {
     "name": "stdout",
     "output_type": "stream",
     "text": [
      "            Age     SibSp     Parch      Fare\n",
      "Age    1.000000 -0.308247 -0.189119  0.096067\n",
      "SibSp -0.308247  1.000000  0.414838  0.159651\n",
      "Parch -0.189119  0.414838  1.000000  0.216225\n",
      "Fare   0.096067  0.159651  0.216225  1.000000\n"
     ]
    },
    {
     "data": {
      "text/plain": [
       "<Axes: >"
      ]
     },
     "execution_count": 9,
     "metadata": {},
     "output_type": "execute_result"
    },
    {
     "data": {
      "image/png": "[encoded data removed]",
      "text/plain": [
       "<Figure size 640x480 with 2 Axes>"
      ]
     },
     "metadata": {},
     "output_type": "display_data"
    }
   ],
   "source": [
    "print(df_num.corr())\n",
    "sns.heatmap(df_num.corr())"
   ]
  },
  {
   "cell_type": "code",
   "execution_count": 10,
   "id": "9af8a19a",
   "metadata": {
    "execution": {
     "iopub.execute_input": "2025-03-08T14:53:38.420153Z",
     "iopub.status.busy": "2025-03-08T14:53:38.419760Z",
     "iopub.status.idle": "2025-03-08T14:53:38.445777Z",
     "shell.execute_reply": "2025-03-08T14:53:38.444799Z"
    },
    "papermill": {
     "duration": 0.037789,
     "end_time": "2025-03-08T14:53:38.447220",
     "exception": false,
     "start_time": "2025-03-08T14:53:38.409431",
     "status": "completed"
    },
    "tags": []
   },
   "outputs": [
    {
     "data": {
      "text/html": [
       "<div>\n",
       "<style scoped>\n",
       "    .dataframe tbody tr th:only-of-type {\n",
       "        vertical-align: middle;\n",
       "    }\n",
       "\n",
       "    .dataframe tbody tr th {\n",
       "        vertical-align: top;\n",
       "    }\n",
       "\n",
       "    .dataframe thead th {\n",
       "        text-align: right;\n",
       "    }\n",
       "</style>\n",
       "<table border=\"1\" class=\"dataframe\">\n",
       "  <thead>\n",
       "    <tr style=\"text-align: right;\">\n",
       "      <th></th>\n",
       "      <th>Age</th>\n",
       "      <th>Fare</th>\n",
       "      <th>Parch</th>\n",
       "      <th>SibSp</th>\n",
       "    </tr>\n",
       "    <tr>\n",
       "      <th>Survived</th>\n",
       "      <th></th>\n",
       "      <th></th>\n",
       "      <th></th>\n",
       "      <th></th>\n",
       "    </tr>\n",
       "  </thead>\n",
       "  <tbody>\n",
       "    <tr>\n",
       "      <th>0</th>\n",
       "      <td>30.626179</td>\n",
       "      <td>22.117887</td>\n",
       "      <td>0.329690</td>\n",
       "      <td>0.553734</td>\n",
       "    </tr>\n",
       "    <tr>\n",
       "      <th>1</th>\n",
       "      <td>28.343690</td>\n",
       "      <td>48.395408</td>\n",
       "      <td>0.464912</td>\n",
       "      <td>0.473684</td>\n",
       "    </tr>\n",
       "  </tbody>\n",
       "</table>\n",
       "</div>"
      ],
      "text/plain": [
       "                Age       Fare     Parch     SibSp\n",
       "Survived                                          \n",
       "0         30.626179  22.117887  0.329690  0.553734\n",
       "1         28.343690  48.395408  0.464912  0.473684"
      ]
     },
     "execution_count": 10,
     "metadata": {},
     "output_type": "execute_result"
    }
   ],
   "source": [
    "pd.pivot_table(training, index = 'Survived', values = ['Age', 'SibSp', 'Parch','Fare'])"
   ]
  },
  {
   "cell_type": "code",
   "execution_count": 11,
   "id": "5fe0160a",
   "metadata": {
    "execution": {
     "iopub.execute_input": "2025-03-08T14:53:38.470045Z",
     "iopub.status.busy": "2025-03-08T14:53:38.469704Z",
     "iopub.status.idle": "2025-03-08T14:53:44.883809Z",
     "shell.execute_reply": "2025-03-08T14:53:44.882990Z"
    },
    "papermill": {
     "duration": 6.426482,
     "end_time": "2025-03-08T14:53:44.885553",
     "exception": false,
     "start_time": "2025-03-08T14:53:38.459071",
     "status": "completed"
    },
    "tags": []
   },
   "outputs": [
    {
     "data": {
      "image/png": "[encoded data removed]",
      "text/plain": [
       "<Figure size 640x480 with 1 Axes>"
      ]
     },
     "metadata": {},
     "output_type": "display_data"
    },
    {
     "data": {
      "image/png": "[encoded data removed]",
      "text/plain": [
       "<Figure size 640x480 with 1 Axes>"
      ]
     },
     "metadata": {},
     "output_type": "display_data"
    },
    {
     "data": {
      "image/png": "[encoded data removed]",
      "text/plain": [
       "<Figure size 640x480 with 1 Axes>"
      ]
     },
     "metadata": {},
     "output_type": "display_data"
    },
    {
     "data": {
      "image/png": "[encoded data removed]",
      "text/plain": [
       "<Figure size 640x480 with 1 Axes>"
      ]
     },
     "metadata": {},
     "output_type": "display_data"
    },
    {
     "data": {
      "image/png": "[encoded data removed]",
      "text/plain": [
       "<Figure size 640x480 with 1 Axes>"
      ]
     },
     "metadata": {},
     "output_type": "display_data"
    },
    {
     "data": {
      "image/png": "[encoded data removed]",
      "text/plain": [
       "<Figure size 640x480 with 1 Axes>"
      ]
     },
     "metadata": {},
     "output_type": "display_data"
    }
   ],
   "source": [
    "for i in df_cat.columns:\n",
    "    sns.barplot(x=df_cat[i].value_counts().index,y=df_cat[i].value_counts()).set_title(i)\n",
    "    plt.show()"
   ]
  },
  {
   "cell_type": "code",
   "execution_count": 12,
   "id": "5fdbda92",
   "metadata": {
    "execution": {
     "iopub.execute_input": "2025-03-08T14:53:44.909266Z",
     "iopub.status.busy": "2025-03-08T14:53:44.908859Z",
     "iopub.status.idle": "2025-03-08T14:53:44.939825Z",
     "shell.execute_reply": "2025-03-08T14:53:44.938873Z"
    },
    "papermill": {
     "duration": 0.044659,
     "end_time": "2025-03-08T14:53:44.941486",
     "exception": false,
     "start_time": "2025-03-08T14:53:44.896827",
     "status": "completed"
    },
    "tags": []
   },
   "outputs": [
    {
     "name": "stdout",
     "output_type": "stream",
     "text": [
      "Pclass      1   2    3\n",
      "Survived              \n",
      "0          80  97  372\n",
      "1         136  87  119\n",
      "\n",
      "Sex       female  male\n",
      "Survived              \n",
      "0             81   468\n",
      "1            233   109\n",
      "\n",
      "Embarked   C   Q    S\n",
      "Survived             \n",
      "0         75  47  427\n",
      "1         93  30  217\n"
     ]
    }
   ],
   "source": [
    "print(pd.pivot_table(training, index = 'Survived', columns = 'Pclass', values = 'Ticket', aggfunc = 'count'))\n",
    "print()\n",
    "print(pd.pivot_table(training, index = 'Survived', columns = 'Sex', values = 'Ticket', aggfunc = 'count'))\n",
    "print()\n",
    "print(pd.pivot_table(training, index = 'Survived', columns = 'Embarked', values = 'Ticket', aggfunc = 'count'))\n",
    "\n"
   ]
  },
  {
   "cell_type": "markdown",
   "id": "c6bfea15",
   "metadata": {
    "papermill": {
     "duration": 0.010287,
     "end_time": "2025-03-08T14:53:44.962585",
     "exception": false,
     "start_time": "2025-03-08T14:53:44.952298",
     "status": "completed"
    },
    "tags": []
   },
   "source": [
    "**Feature Engineering**"
   ]
  },
  {
   "cell_type": "code",
   "execution_count": 13,
   "id": "3bbbeb59",
   "metadata": {
    "execution": {
     "iopub.execute_input": "2025-03-08T14:53:44.984717Z",
     "iopub.status.busy": "2025-03-08T14:53:44.984436Z",
     "iopub.status.idle": "2025-03-08T14:53:44.991541Z",
     "shell.execute_reply": "2025-03-08T14:53:44.990157Z"
    },
    "papermill": {
     "duration": 0.020227,
     "end_time": "2025-03-08T14:53:44.993292",
     "exception": false,
     "start_time": "2025-03-08T14:53:44.973065",
     "status": "completed"
    },
    "tags": []
   },
   "outputs": [
    {
     "name": "stdout",
     "output_type": "stream",
     "text": [
      "cabin_multiple\n",
      "0    687\n",
      "1    180\n",
      "2     16\n",
      "3      6\n",
      "4      2\n",
      "Name: count, dtype: int64\n"
     ]
    }
   ],
   "source": [
    "training['cabin_multiple'] = training['Cabin'].apply(lambda x: 0 if pd.isna(x) else len(x.split()))\n",
    "print(training['cabin_multiple'].value_counts())"
   ]
  },
  {
   "cell_type": "code",
   "execution_count": 14,
   "id": "3fcd4b53",
   "metadata": {
    "execution": {
     "iopub.execute_input": "2025-03-08T14:53:45.016180Z",
     "iopub.status.busy": "2025-03-08T14:53:45.015804Z",
     "iopub.status.idle": "2025-03-08T14:53:45.034340Z",
     "shell.execute_reply": "2025-03-08T14:53:45.033209Z"
    },
    "papermill": {
     "duration": 0.031998,
     "end_time": "2025-03-08T14:53:45.036009",
     "exception": false,
     "start_time": "2025-03-08T14:53:45.004011",
     "status": "completed"
    },
    "tags": []
   },
   "outputs": [
    {
     "name": "stderr",
     "output_type": "stream",
     "text": [
      "/usr/local/lib/python3.10/dist-packages/pandas/io/formats/format.py:1458: RuntimeWarning: invalid value encountered in greater\n",
      "  has_large_values = (abs_vals > 1e6).any()\n",
      "/usr/local/lib/python3.10/dist-packages/pandas/io/formats/format.py:1459: RuntimeWarning: invalid value encountered in less\n",
      "  has_small_values = ((abs_vals < 10 ** (-self.digits)) & (abs_vals > 0)).any()\n",
      "/usr/local/lib/python3.10/dist-packages/pandas/io/formats/format.py:1459: RuntimeWarning: invalid value encountered in greater\n",
      "  has_small_values = ((abs_vals < 10 ** (-self.digits)) & (abs_vals > 0)).any()\n"
     ]
    },
    {
     "data": {
      "text/html": [
       "<div>\n",
       "<style scoped>\n",
       "    .dataframe tbody tr th:only-of-type {\n",
       "        vertical-align: middle;\n",
       "    }\n",
       "\n",
       "    .dataframe tbody tr th {\n",
       "        vertical-align: top;\n",
       "    }\n",
       "\n",
       "    .dataframe thead th {\n",
       "        text-align: right;\n",
       "    }\n",
       "</style>\n",
       "<table border=\"1\" class=\"dataframe\">\n",
       "  <thead>\n",
       "    <tr style=\"text-align: right;\">\n",
       "      <th>cabin_multiple</th>\n",
       "      <th>0</th>\n",
       "      <th>1</th>\n",
       "      <th>2</th>\n",
       "      <th>3</th>\n",
       "      <th>4</th>\n",
       "    </tr>\n",
       "    <tr>\n",
       "      <th>Survived</th>\n",
       "      <th></th>\n",
       "      <th></th>\n",
       "      <th></th>\n",
       "      <th></th>\n",
       "      <th></th>\n",
       "    </tr>\n",
       "  </thead>\n",
       "  <tbody>\n",
       "    <tr>\n",
       "      <th>0</th>\n",
       "      <td>481.0</td>\n",
       "      <td>58.0</td>\n",
       "      <td>7.0</td>\n",
       "      <td>3.0</td>\n",
       "      <td>NaN</td>\n",
       "    </tr>\n",
       "    <tr>\n",
       "      <th>1</th>\n",
       "      <td>206.0</td>\n",
       "      <td>122.0</td>\n",
       "      <td>9.0</td>\n",
       "      <td>3.0</td>\n",
       "      <td>2.0</td>\n",
       "    </tr>\n",
       "  </tbody>\n",
       "</table>\n",
       "</div>"
      ],
      "text/plain": [
       "cabin_multiple      0      1    2    3    4\n",
       "Survived                                   \n",
       "0               481.0   58.0  7.0  3.0  NaN\n",
       "1               206.0  122.0  9.0  3.0  2.0"
      ]
     },
     "execution_count": 14,
     "metadata": {},
     "output_type": "execute_result"
    }
   ],
   "source": [
    "pd.pivot_table(training, index = 'Survived', columns = 'cabin_multiple', values = 'Ticket' ,aggfunc ='count')"
   ]
  },
  {
   "cell_type": "code",
   "execution_count": 15,
   "id": "f6c22ab6",
   "metadata": {
    "execution": {
     "iopub.execute_input": "2025-03-08T14:53:45.059562Z",
     "iopub.status.busy": "2025-03-08T14:53:45.059202Z",
     "iopub.status.idle": "2025-03-08T14:53:45.080832Z",
     "shell.execute_reply": "2025-03-08T14:53:45.079901Z"
    },
    "papermill": {
     "duration": 0.034867,
     "end_time": "2025-03-08T14:53:45.082187",
     "exception": false,
     "start_time": "2025-03-08T14:53:45.047320",
     "status": "completed"
    },
    "tags": []
   },
   "outputs": [
    {
     "name": "stdout",
     "output_type": "stream",
     "text": [
      "cabin_adv\n",
      "n    687\n",
      "C     59\n",
      "B     47\n",
      "D     33\n",
      "E     32\n",
      "A     15\n",
      "F     13\n",
      "G      4\n",
      "T      1\n",
      "Name: count, dtype: int64\n"
     ]
    },
    {
     "name": "stderr",
     "output_type": "stream",
     "text": [
      "/usr/local/lib/python3.10/dist-packages/pandas/io/formats/format.py:1458: RuntimeWarning: invalid value encountered in greater\n",
      "  has_large_values = (abs_vals > 1e6).any()\n",
      "/usr/local/lib/python3.10/dist-packages/pandas/io/formats/format.py:1459: RuntimeWarning: invalid value encountered in less\n",
      "  has_small_values = ((abs_vals < 10 ** (-self.digits)) & (abs_vals > 0)).any()\n",
      "/usr/local/lib/python3.10/dist-packages/pandas/io/formats/format.py:1459: RuntimeWarning: invalid value encountered in greater\n",
      "  has_small_values = ((abs_vals < 10 ** (-self.digits)) & (abs_vals > 0)).any()\n"
     ]
    },
    {
     "data": {
      "text/html": [
       "<div>\n",
       "<style scoped>\n",
       "    .dataframe tbody tr th:only-of-type {\n",
       "        vertical-align: middle;\n",
       "    }\n",
       "\n",
       "    .dataframe tbody tr th {\n",
       "        vertical-align: top;\n",
       "    }\n",
       "\n",
       "    .dataframe thead th {\n",
       "        text-align: right;\n",
       "    }\n",
       "</style>\n",
       "<table border=\"1\" class=\"dataframe\">\n",
       "  <thead>\n",
       "    <tr style=\"text-align: right;\">\n",
       "      <th>cabin_adv</th>\n",
       "      <th>A</th>\n",
       "      <th>B</th>\n",
       "      <th>C</th>\n",
       "      <th>D</th>\n",
       "      <th>E</th>\n",
       "      <th>F</th>\n",
       "      <th>G</th>\n",
       "      <th>T</th>\n",
       "      <th>n</th>\n",
       "    </tr>\n",
       "    <tr>\n",
       "      <th>Survived</th>\n",
       "      <th></th>\n",
       "      <th></th>\n",
       "      <th></th>\n",
       "      <th></th>\n",
       "      <th></th>\n",
       "      <th></th>\n",
       "      <th></th>\n",
       "      <th></th>\n",
       "      <th></th>\n",
       "    </tr>\n",
       "  </thead>\n",
       "  <tbody>\n",
       "    <tr>\n",
       "      <th>0</th>\n",
       "      <td>8.0</td>\n",
       "      <td>12.0</td>\n",
       "      <td>24.0</td>\n",
       "      <td>8.0</td>\n",
       "      <td>8.0</td>\n",
       "      <td>5.0</td>\n",
       "      <td>2.0</td>\n",
       "      <td>1.0</td>\n",
       "      <td>481.0</td>\n",
       "    </tr>\n",
       "    <tr>\n",
       "      <th>1</th>\n",
       "      <td>7.0</td>\n",
       "      <td>35.0</td>\n",
       "      <td>35.0</td>\n",
       "      <td>25.0</td>\n",
       "      <td>24.0</td>\n",
       "      <td>8.0</td>\n",
       "      <td>2.0</td>\n",
       "      <td>NaN</td>\n",
       "      <td>206.0</td>\n",
       "    </tr>\n",
       "  </tbody>\n",
       "</table>\n",
       "</div>"
      ],
      "text/plain": [
       "cabin_adv    A     B     C     D     E    F    G    T      n\n",
       "Survived                                                    \n",
       "0          8.0  12.0  24.0   8.0   8.0  5.0  2.0  1.0  481.0\n",
       "1          7.0  35.0  35.0  25.0  24.0  8.0  2.0  NaN  206.0"
      ]
     },
     "execution_count": 15,
     "metadata": {},
     "output_type": "execute_result"
    }
   ],
   "source": [
    "training['cabin_adv'] = training.Cabin.apply(lambda x: str(x)[0])\n",
    "print(training.cabin_adv.value_counts())\n",
    "pd.pivot_table(training, index = 'Survived', columns = 'cabin_adv', values = 'Name', aggfunc = 'count')"
   ]
  },
  {
   "cell_type": "code",
   "execution_count": 16,
   "id": "c1149a65",
   "metadata": {
    "execution": {
     "iopub.execute_input": "2025-03-08T14:53:45.107080Z",
     "iopub.status.busy": "2025-03-08T14:53:45.106750Z",
     "iopub.status.idle": "2025-03-08T14:53:45.130662Z",
     "shell.execute_reply": "2025-03-08T14:53:45.129299Z"
    },
    "papermill": {
     "duration": 0.039277,
     "end_time": "2025-03-08T14:53:45.132517",
     "exception": false,
     "start_time": "2025-03-08T14:53:45.093240",
     "status": "completed"
    },
    "tags": []
   },
   "outputs": [
    {
     "name": "stdout",
     "output_type": "stream",
     "text": [
      "numeric_ticket\n",
      "[3, 4, 7, 0, 8, 2]          7\n",
      "[C, A, .,  , 2, 3, 4, 3]    7\n",
      "[1, 6, 0, 1]                7\n",
      "[3, 1, 0, 1, 2, 9, 5]       6\n",
      "[C, A,  , 2, 1, 4, 4]       6\n",
      "                           ..\n",
      "[9, 2, 3, 4]                1\n",
      "[1, 9, 9, 8, 8]             1\n",
      "[2, 6, 9, 3]                1\n",
      "[P, C,  , 1, 7, 6, 1, 2]    1\n",
      "[3, 7, 0, 3, 7, 6]          1\n",
      "Name: count, Length: 681, dtype: int64\n"
     ]
    }
   ],
   "source": [
    "def split_ticket(ticket):\n",
    "    if isinstance(ticket,str):\n",
    "        return list(ticket)\n",
    "    else:\n",
    "        return ticket\n",
    "training['numeric_ticket'] = training['Ticket'].apply(split_ticket) \n",
    "print(training['numeric_ticket'].value_counts())"
   ]
  },
  {
   "cell_type": "code",
   "execution_count": 17,
   "id": "a858a2b3",
   "metadata": {
    "execution": {
     "iopub.execute_input": "2025-03-08T14:53:45.158703Z",
     "iopub.status.busy": "2025-03-08T14:53:45.158363Z",
     "iopub.status.idle": "2025-03-08T14:53:45.171109Z",
     "shell.execute_reply": "2025-03-08T14:53:45.169716Z"
    },
    "papermill": {
     "duration": 0.027519,
     "end_time": "2025-03-08T14:53:45.172580",
     "exception": false,
     "start_time": "2025-03-08T14:53:45.145061",
     "status": "completed"
    },
    "tags": []
   },
   "outputs": [
    {
     "name": "stdout",
     "output_type": "stream",
     "text": [
      "numeric_ticket  -1.0\n",
      "Survived            \n",
      "0                549\n",
      "1                342\n"
     ]
    }
   ],
   "source": [
    "# Assuming 'training' is your DataFrame\n",
    "training['numeric_ticket'] = pd.to_numeric(training['numeric_ticket'],errors='coerce').fillna(-1)\n",
    "pivot_table = pd.pivot_table(training, index='Survived', columns='numeric_ticket', values='Ticket', aggfunc='count')\n",
    "print (pivot_table)"
   ]
  },
  {
   "cell_type": "code",
   "execution_count": 18,
   "id": "c4f3a100",
   "metadata": {
    "execution": {
     "iopub.execute_input": "2025-03-08T14:53:45.196697Z",
     "iopub.status.busy": "2025-03-08T14:53:45.196357Z",
     "iopub.status.idle": "2025-03-08T14:53:45.202297Z",
     "shell.execute_reply": "2025-03-08T14:53:45.201170Z"
    },
    "papermill": {
     "duration": 0.019744,
     "end_time": "2025-03-08T14:53:45.203576",
     "exception": false,
     "start_time": "2025-03-08T14:53:45.183832",
     "status": "completed"
    },
    "tags": []
   },
   "outputs": [],
   "source": [
    "#feature engineering on person's title \n",
    "training.Name.head(50)\n",
    "training['name_title'] = training.Name.apply(lambda x: x.split(',')[1].split('.')[0].strip())\n",
    "#mr., ms., master. etc"
   ]
  },
  {
   "cell_type": "code",
   "execution_count": 19,
   "id": "cc3d75d8",
   "metadata": {
    "execution": {
     "iopub.execute_input": "2025-03-08T14:53:45.227541Z",
     "iopub.status.busy": "2025-03-08T14:53:45.227213Z",
     "iopub.status.idle": "2025-03-08T14:53:45.234296Z",
     "shell.execute_reply": "2025-03-08T14:53:45.233023Z"
    },
    "papermill": {
     "duration": 0.020736,
     "end_time": "2025-03-08T14:53:45.235845",
     "exception": false,
     "start_time": "2025-03-08T14:53:45.215109",
     "status": "completed"
    },
    "tags": []
   },
   "outputs": [
    {
     "data": {
      "text/plain": [
       "name_title\n",
       "Mr              517\n",
       "Miss            182\n",
       "Mrs             125\n",
       "Master           40\n",
       "Dr                7\n",
       "Rev               6\n",
       "Mlle              2\n",
       "Major             2\n",
       "Col               2\n",
       "the Countess      1\n",
       "Capt              1\n",
       "Ms                1\n",
       "Sir               1\n",
       "Lady              1\n",
       "Mme               1\n",
       "Don               1\n",
       "Jonkheer          1\n",
       "Name: count, dtype: int64"
      ]
     },
     "execution_count": 19,
     "metadata": {},
     "output_type": "execute_result"
    }
   ],
   "source": [
    "training['name_title'].value_counts()"
   ]
  },
  {
   "cell_type": "code",
   "execution_count": 20,
   "id": "2641eb29",
   "metadata": {
    "execution": {
     "iopub.execute_input": "2025-03-08T14:53:45.260451Z",
     "iopub.status.busy": "2025-03-08T14:53:45.259962Z",
     "iopub.status.idle": "2025-03-08T14:53:45.501608Z",
     "shell.execute_reply": "2025-03-08T14:53:45.500463Z"
    },
    "papermill": {
     "duration": 0.255931,
     "end_time": "2025-03-08T14:53:45.503450",
     "exception": false,
     "start_time": "2025-03-08T14:53:45.247519",
     "status": "completed"
    },
    "tags": []
   },
   "outputs": [
    {
     "data": {
      "text/plain": [
       "(889,)"
      ]
     },
     "execution_count": 20,
     "metadata": {},
     "output_type": "execute_result"
    },
    {
     "data": {
      "image/png": "[encoded data removed]",
      "text/plain": [
       "<Figure size 640x480 with 1 Axes>"
      ]
     },
     "metadata": {},
     "output_type": "display_data"
    }
   ],
   "source": [
    "#create all categorical variables that we did above for both training and test sets \n",
    "all_data['cabin_multiple'] = all_data.Cabin.apply(lambda x: 0 if pd.isna(x) else len(x.split(' ')))\n",
    "all_data['cabin_adv'] = all_data.Cabin.apply(lambda x: str(x)[0])\n",
    "all_data['numeric_ticket'] = all_data.Ticket.apply(lambda x: 1 if x.isnumeric() else 0)\n",
    "all_data['ticket_letters'] = all_data.Ticket.apply(lambda x: ''.join(x.split(' ')[:-1]).replace('.','').replace('/','').lower() if len(x.split(' ')[:-1]) >0 else 0)\n",
    "all_data['name_title'] = all_data.Name.apply(lambda x: x.split(',')[1].split('.')[0].strip())\n",
    "\n",
    "#impute nulls for continuous data \n",
    "#all_data.Age = all_data.Age.fillna(training.Age.mean())\n",
    "all_data.Age = all_data.Age.fillna(training.Age.median())\n",
    "#all_data.Fare = all_data.Fare.fillna(training.Fare.mean())\n",
    "all_data.Fare = all_data.Fare.fillna(training.Fare.median())\n",
    "\n",
    "#drop null 'embarked' rows. Only 2 instances of this in training and 0 in test \n",
    "all_data.dropna(subset=['Embarked'],inplace = True)\n",
    "\n",
    "#tried log norm of sibsp (not used)\n",
    "all_data['norm_sibsp'] = np.log(all_data.SibSp+1)\n",
    "all_data['norm_sibsp'].hist()\n",
    "\n",
    "# log norm of fare (used)\n",
    "all_data['norm_fare'] = np.log(all_data.Fare+1)\n",
    "all_data['norm_fare'].hist()\n",
    "\n",
    "# converted fare to category for pd.get_dummies()\n",
    "all_data.Pclass = all_data.Pclass.astype(str)\n",
    "\n",
    "#created dummy variables from categories (also can use OneHotEncoder)\n",
    "all_dummies = pd.get_dummies(all_data[['Pclass','Sex','Age','SibSp','Parch','norm_fare','Embarked','cabin_adv','cabin_multiple','numeric_ticket','name_title','train_test']])\n",
    "\n",
    "#Split to train test again\n",
    "X_train = all_dummies[all_dummies.train_test == 1].drop(['train_test'], axis =1)\n",
    "X_test = all_dummies[all_dummies.train_test == 0].drop(['train_test'], axis =1)\n",
    "\n",
    "\n",
    "y_train = all_data[all_data.train_test==1].Survived\n",
    "y_train.shape"
   ]
  },
  {
   "cell_type": "code",
   "execution_count": 21,
   "id": "1f4a7b13",
   "metadata": {
    "execution": {
     "iopub.execute_input": "2025-03-08T14:53:45.528926Z",
     "iopub.status.busy": "2025-03-08T14:53:45.528481Z",
     "iopub.status.idle": "2025-03-08T14:53:45.729836Z",
     "shell.execute_reply": "2025-03-08T14:53:45.728617Z"
    },
    "papermill": {
     "duration": 0.216189,
     "end_time": "2025-03-08T14:53:45.731397",
     "exception": false,
     "start_time": "2025-03-08T14:53:45.515208",
     "status": "completed"
    },
    "tags": []
   },
   "outputs": [],
   "source": [
    "# Scale data \n",
    "from sklearn.preprocessing import StandardScaler\n",
    "scale = StandardScaler()\n",
    "all_dummies_scaled = all_dummies.copy()\n",
    "all_dummies_scaled[['Age','SibSp','Parch','norm_fare']]= scale.fit_transform(all_dummies_scaled[['Age','SibSp','Parch','norm_fare']])\n",
    "all_dummies_scaled\n",
    "\n",
    "X_train_scaled = all_dummies_scaled[all_dummies_scaled.train_test == 1].drop(['train_test'], axis =1)\n",
    "X_test_scaled = all_dummies_scaled[all_dummies_scaled.train_test == 0].drop(['train_test'], axis =1)\n",
    "\n",
    "y_train = all_data[all_data.train_test==1].Survived"
   ]
  },
  {
   "cell_type": "code",
   "execution_count": 22,
   "id": "a5aebc1f",
   "metadata": {
    "execution": {
     "iopub.execute_input": "2025-03-08T14:53:45.756886Z",
     "iopub.status.busy": "2025-03-08T14:53:45.756500Z",
     "iopub.status.idle": "2025-03-08T14:53:46.342978Z",
     "shell.execute_reply": "2025-03-08T14:53:46.341745Z"
    },
    "papermill": {
     "duration": 0.601287,
     "end_time": "2025-03-08T14:53:46.344786",
     "exception": false,
     "start_time": "2025-03-08T14:53:45.743499",
     "status": "completed"
    },
    "tags": []
   },
   "outputs": [],
   "source": [
    "from sklearn.model_selection import cross_val_score\n",
    "from sklearn.naive_bayes import GaussianNB\n",
    "from sklearn.linear_model import LogisticRegression\n",
    "from sklearn import tree\n",
    "from sklearn.neighbors import KNeighborsClassifier\n",
    "from sklearn.ensemble import RandomForestClassifier\n",
    "from sklearn.svm import SVC"
   ]
  },
  {
   "cell_type": "code",
   "execution_count": 23,
   "id": "530f4642",
   "metadata": {
    "execution": {
     "iopub.execute_input": "2025-03-08T14:53:46.369755Z",
     "iopub.status.busy": "2025-03-08T14:53:46.369438Z",
     "iopub.status.idle": "2025-03-08T14:53:46.403851Z",
     "shell.execute_reply": "2025-03-08T14:53:46.402626Z"
    },
    "papermill": {
     "duration": 0.049031,
     "end_time": "2025-03-08T14:53:46.405736",
     "exception": false,
     "start_time": "2025-03-08T14:53:46.356705",
     "status": "completed"
    },
    "tags": []
   },
   "outputs": [
    {
     "name": "stdout",
     "output_type": "stream",
     "text": [
      "[0.66853933 0.70224719 0.75842697 0.74719101 0.73446328]\n",
      "0.7221735542436362\n"
     ]
    }
   ],
   "source": [
    "#I usually use Naive Bayes as a baseline for my classification tasks \n",
    "gnb = GaussianNB()\n",
    "cv = cross_val_score(gnb,X_train_scaled,y_train,cv=5)\n",
    "print(cv)\n",
    "print(cv.mean())"
   ]
  },
  {
   "cell_type": "code",
   "execution_count": 24,
   "id": "5ff35ba6",
   "metadata": {
    "execution": {
     "iopub.execute_input": "2025-03-08T14:53:46.430420Z",
     "iopub.status.busy": "2025-03-08T14:53:46.430069Z",
     "iopub.status.idle": "2025-03-08T14:53:46.712162Z",
     "shell.execute_reply": "2025-03-08T14:53:46.710791Z"
    },
    "papermill": {
     "duration": 0.296429,
     "end_time": "2025-03-08T14:53:46.714126",
     "exception": false,
     "start_time": "2025-03-08T14:53:46.417697",
     "status": "completed"
    },
    "tags": []
   },
   "outputs": [
    {
     "name": "stdout",
     "output_type": "stream",
     "text": [
      "[0.8258427  0.80898876 0.80337079 0.82022472 0.85310734]\n",
      "0.8223068621849807\n"
     ]
    }
   ],
   "source": [
    "lr = LogisticRegression(max_iter = 2000)\n",
    "cv = cross_val_score(lr,X_train,y_train,cv=5)\n",
    "print(cv)\n",
    "print(cv.mean())"
   ]
  },
  {
   "cell_type": "code",
   "execution_count": 25,
   "id": "1d00044e",
   "metadata": {
    "execution": {
     "iopub.execute_input": "2025-03-08T14:53:46.741639Z",
     "iopub.status.busy": "2025-03-08T14:53:46.741313Z",
     "iopub.status.idle": "2025-03-08T14:53:46.825384Z",
     "shell.execute_reply": "2025-03-08T14:53:46.824169Z"
    },
    "papermill": {
     "duration": 0.101137,
     "end_time": "2025-03-08T14:53:46.827612",
     "exception": false,
     "start_time": "2025-03-08T14:53:46.726475",
     "status": "completed"
    },
    "tags": []
   },
   "outputs": [
    {
     "name": "stdout",
     "output_type": "stream",
     "text": [
      "[0.8258427  0.80898876 0.80337079 0.82022472 0.85310734]\n",
      "0.8223068621849807\n"
     ]
    }
   ],
   "source": [
    "lr = LogisticRegression(max_iter = 2000)\n",
    "cv = cross_val_score(lr,X_train_scaled,y_train,cv=5)\n",
    "print(cv)\n",
    "print(cv.mean())"
   ]
  },
  {
   "cell_type": "code",
   "execution_count": 26,
   "id": "4abd5f46",
   "metadata": {
    "execution": {
     "iopub.execute_input": "2025-03-08T14:53:46.853070Z",
     "iopub.status.busy": "2025-03-08T14:53:46.852735Z",
     "iopub.status.idle": "2025-03-08T14:53:46.894767Z",
     "shell.execute_reply": "2025-03-08T14:53:46.893230Z"
    },
    "papermill": {
     "duration": 0.056672,
     "end_time": "2025-03-08T14:53:46.896618",
     "exception": false,
     "start_time": "2025-03-08T14:53:46.839946",
     "status": "completed"
    },
    "tags": []
   },
   "outputs": [
    {
     "name": "stdout",
     "output_type": "stream",
     "text": [
      "[0.75842697 0.74719101 0.8258427  0.74719101 0.8079096 ]\n",
      "0.7773122579826065\n"
     ]
    }
   ],
   "source": [
    "dt = tree.DecisionTreeClassifier(random_state = 1)\n",
    "cv = cross_val_score(dt,X_train,y_train,cv=5)\n",
    "print(cv)\n",
    "print(cv.mean())"
   ]
  },
  {
   "cell_type": "code",
   "execution_count": 27,
   "id": "a7c9c544",
   "metadata": {
    "execution": {
     "iopub.execute_input": "2025-03-08T14:53:46.923030Z",
     "iopub.status.busy": "2025-03-08T14:53:46.922680Z",
     "iopub.status.idle": "2025-03-08T14:53:46.964152Z",
     "shell.execute_reply": "2025-03-08T14:53:46.962843Z"
    },
    "papermill": {
     "duration": 0.056785,
     "end_time": "2025-03-08T14:53:46.965787",
     "exception": false,
     "start_time": "2025-03-08T14:53:46.909002",
     "status": "completed"
    },
    "tags": []
   },
   "outputs": [
    {
     "name": "stdout",
     "output_type": "stream",
     "text": [
      "[0.75842697 0.74719101 0.8258427  0.74719101 0.8079096 ]\n",
      "0.7773122579826065\n"
     ]
    }
   ],
   "source": [
    "dt = tree.DecisionTreeClassifier(random_state = 1)\n",
    "cv = cross_val_score(dt,X_train_scaled,y_train,cv=5)\n",
    "print(cv)\n",
    "print(cv.mean())"
   ]
  },
  {
   "cell_type": "code",
   "execution_count": 28,
   "id": "9b28b88e",
   "metadata": {
    "execution": {
     "iopub.execute_input": "2025-03-08T14:53:46.991617Z",
     "iopub.status.busy": "2025-03-08T14:53:46.991224Z",
     "iopub.status.idle": "2025-03-08T14:53:47.109812Z",
     "shell.execute_reply": "2025-03-08T14:53:47.108381Z"
    },
    "papermill": {
     "duration": 0.133358,
     "end_time": "2025-03-08T14:53:47.111292",
     "exception": false,
     "start_time": "2025-03-08T14:53:46.977934",
     "status": "completed"
    },
    "tags": []
   },
   "outputs": [
    {
     "name": "stdout",
     "output_type": "stream",
     "text": [
      "[0.76966292 0.79775281 0.80898876 0.82022472 0.85310734]\n",
      "0.8099473116231829\n"
     ]
    }
   ],
   "source": [
    "knn = KNeighborsClassifier()\n",
    "cv = cross_val_score(knn,X_train,y_train,cv=5)\n",
    "print(cv)\n",
    "print(cv.mean())"
   ]
  },
  {
   "cell_type": "code",
   "execution_count": 29,
   "id": "17d44204",
   "metadata": {
    "execution": {
     "iopub.execute_input": "2025-03-08T14:53:47.139577Z",
     "iopub.status.busy": "2025-03-08T14:53:47.139180Z",
     "iopub.status.idle": "2025-03-08T14:53:47.216765Z",
     "shell.execute_reply": "2025-03-08T14:53:47.215892Z"
    },
    "papermill": {
     "duration": 0.094293,
     "end_time": "2025-03-08T14:53:47.218512",
     "exception": false,
     "start_time": "2025-03-08T14:53:47.124219",
     "status": "completed"
    },
    "tags": []
   },
   "outputs": [
    {
     "name": "stdout",
     "output_type": "stream",
     "text": [
      "[0.79775281 0.79213483 0.83146067 0.79775281 0.85310734]\n",
      "0.8144416936456548\n"
     ]
    }
   ],
   "source": [
    "knn = KNeighborsClassifier()\n",
    "cv = cross_val_score(knn,X_train_scaled,y_train,cv=5)\n",
    "print(cv)\n",
    "print(cv.mean())"
   ]
  },
  {
   "cell_type": "code",
   "execution_count": 30,
   "id": "b4ac6672",
   "metadata": {
    "execution": {
     "iopub.execute_input": "2025-03-08T14:53:47.244518Z",
     "iopub.status.busy": "2025-03-08T14:53:47.244038Z",
     "iopub.status.idle": "2025-03-08T14:53:48.018671Z",
     "shell.execute_reply": "2025-03-08T14:53:48.017362Z"
    },
    "papermill": {
     "duration": 0.789904,
     "end_time": "2025-03-08T14:53:48.020721",
     "exception": false,
     "start_time": "2025-03-08T14:53:47.230817",
     "status": "completed"
    },
    "tags": []
   },
   "outputs": [
    {
     "name": "stdout",
     "output_type": "stream",
     "text": [
      "[0.80898876 0.79213483 0.84831461 0.73595506 0.82485876]\n",
      "0.8020504030978227\n"
     ]
    }
   ],
   "source": [
    "rf = RandomForestClassifier(random_state = 1)\n",
    "cv = cross_val_score(rf,X_train,y_train,cv=5)\n",
    "print(cv)\n",
    "print(cv.mean())"
   ]
  },
  {
   "cell_type": "code",
   "execution_count": 31,
   "id": "3ea9a723",
   "metadata": {
    "execution": {
     "iopub.execute_input": "2025-03-08T14:53:48.046758Z",
     "iopub.status.busy": "2025-03-08T14:53:48.046395Z",
     "iopub.status.idle": "2025-03-08T14:53:48.824495Z",
     "shell.execute_reply": "2025-03-08T14:53:48.823397Z"
    },
    "papermill": {
     "duration": 0.792574,
     "end_time": "2025-03-08T14:53:48.825823",
     "exception": false,
     "start_time": "2025-03-08T14:53:48.033249",
     "status": "completed"
    },
    "tags": []
   },
   "outputs": [
    {
     "name": "stdout",
     "output_type": "stream",
     "text": [
      "[0.80337079 0.79213483 0.84831461 0.73595506 0.82485876]\n",
      "0.8009268075922046\n"
     ]
    }
   ],
   "source": [
    "rf = RandomForestClassifier(random_state = 1)\n",
    "cv = cross_val_score(rf,X_train_scaled,y_train,cv=5)\n",
    "print(cv)\n",
    "print(cv.mean())"
   ]
  },
  {
   "cell_type": "code",
   "execution_count": 32,
   "id": "1b72e8f2",
   "metadata": {
    "execution": {
     "iopub.execute_input": "2025-03-08T14:53:48.851197Z",
     "iopub.status.busy": "2025-03-08T14:53:48.850791Z",
     "iopub.status.idle": "2025-03-08T14:53:49.200764Z",
     "shell.execute_reply": "2025-03-08T14:53:49.199616Z"
    },
    "papermill": {
     "duration": 0.364345,
     "end_time": "2025-03-08T14:53:49.202279",
     "exception": false,
     "start_time": "2025-03-08T14:53:48.837934",
     "status": "completed"
    },
    "tags": []
   },
   "outputs": [
    {
     "name": "stdout",
     "output_type": "stream",
     "text": [
      "[0.85393258 0.82022472 0.8258427  0.80337079 0.86440678]\n",
      "0.8335555132355742\n"
     ]
    }
   ],
   "source": [
    "svc = SVC(probability = True)\n",
    "cv = cross_val_score(svc,X_train_scaled,y_train,cv=5)\n",
    "print(cv)\n",
    "print(cv.mean())"
   ]
  },
  {
   "cell_type": "code",
   "execution_count": 33,
   "id": "fbb68887",
   "metadata": {
    "execution": {
     "iopub.execute_input": "2025-03-08T14:53:49.227889Z",
     "iopub.status.busy": "2025-03-08T14:53:49.227548Z",
     "iopub.status.idle": "2025-03-08T14:53:50.021996Z",
     "shell.execute_reply": "2025-03-08T14:53:50.020167Z"
    },
    "papermill": {
     "duration": 0.810297,
     "end_time": "2025-03-08T14:53:50.024728",
     "exception": false,
     "start_time": "2025-03-08T14:53:49.214431",
     "status": "completed"
    },
    "tags": []
   },
   "outputs": [
    {
     "name": "stdout",
     "output_type": "stream",
     "text": [
      "[0.80337079 0.80898876 0.85393258 0.78651685 0.80225989]\n",
      "0.8110137751539389\n"
     ]
    }
   ],
   "source": [
    "from xgboost import XGBClassifier\n",
    "xgb = XGBClassifier(random_state =1)\n",
    "cv = cross_val_score(xgb,X_train_scaled,y_train,cv=5)\n",
    "print(cv)\n",
    "print(cv.mean())"
   ]
  },
  {
   "cell_type": "code",
   "execution_count": 34,
   "id": "c799b930",
   "metadata": {
    "execution": {
     "iopub.execute_input": "2025-03-08T14:53:50.053625Z",
     "iopub.status.busy": "2025-03-08T14:53:50.052795Z",
     "iopub.status.idle": "2025-03-08T14:53:50.059157Z",
     "shell.execute_reply": "2025-03-08T14:53:50.057722Z"
    },
    "papermill": {
     "duration": 0.02242,
     "end_time": "2025-03-08T14:53:50.061187",
     "exception": false,
     "start_time": "2025-03-08T14:53:50.038767",
     "status": "completed"
    },
    "tags": []
   },
   "outputs": [],
   "source": [
    "from sklearn.ensemble import VotingClassifier\n",
    "voting_clf = VotingClassifier(estimators = [('lr',lr),('knn',knn),('rf',rf),('gnb',gnb),('svc',svc),('xgb',xgb)], voting = 'soft') "
   ]
  },
  {
   "cell_type": "code",
   "execution_count": 35,
   "id": "4d922975",
   "metadata": {
    "execution": {
     "iopub.execute_input": "2025-03-08T14:53:50.145580Z",
     "iopub.status.busy": "2025-03-08T14:53:50.145238Z",
     "iopub.status.idle": "2025-03-08T14:53:51.735140Z",
     "shell.execute_reply": "2025-03-08T14:53:51.733329Z"
    },
    "papermill": {
     "duration": 1.66284,
     "end_time": "2025-03-08T14:53:51.736736",
     "exception": false,
     "start_time": "2025-03-08T14:53:50.073896",
     "status": "completed"
    },
    "tags": []
   },
   "outputs": [
    {
     "name": "stdout",
     "output_type": "stream",
     "text": [
      "[0.83146067 0.81460674 0.83146067 0.79775281 0.84745763]\n",
      "0.8245477051990097\n"
     ]
    }
   ],
   "source": [
    "cv = cross_val_score(voting_clf,X_train_scaled,y_train,cv=5)\n",
    "print(cv)\n",
    "print(cv.mean())"
   ]
  },
  {
   "cell_type": "code",
   "execution_count": 36,
   "id": "b53259f1",
   "metadata": {
    "execution": {
     "iopub.execute_input": "2025-03-08T14:53:51.762420Z",
     "iopub.status.busy": "2025-03-08T14:53:51.762030Z",
     "iopub.status.idle": "2025-03-08T14:53:52.132397Z",
     "shell.execute_reply": "2025-03-08T14:53:52.130875Z"
    },
    "papermill": {
     "duration": 0.385144,
     "end_time": "2025-03-08T14:53:52.134173",
     "exception": false,
     "start_time": "2025-03-08T14:53:51.749029",
     "status": "completed"
    },
    "tags": []
   },
   "outputs": [],
   "source": [
    "voting_clf.fit(X_train_scaled,y_train)\n",
    "y_hat_base_vc = voting_clf.predict(X_test_scaled).astype(int)\n",
    "basic_submission = {'PassengerId': test.PassengerId, 'Survived': y_hat_base_vc}\n",
    "base_submission = pd.DataFrame(data=basic_submission)\n",
    "base_submission.to_csv('base_submission.csv', index=False)"
   ]
  },
  {
   "cell_type": "markdown",
   "id": "af95788d",
   "metadata": {
    "papermill": {
     "duration": 0.011685,
     "end_time": "2025-03-08T14:53:52.158446",
     "exception": false,
     "start_time": "2025-03-08T14:53:52.146761",
     "status": "completed"
    },
    "tags": []
   },
   "source": [
    "**Model Tuned Performance**"
   ]
  },
  {
   "cell_type": "code",
   "execution_count": 37,
   "id": "855bb5a9",
   "metadata": {
    "execution": {
     "iopub.execute_input": "2025-03-08T14:53:52.184256Z",
     "iopub.status.busy": "2025-03-08T14:53:52.183860Z",
     "iopub.status.idle": "2025-03-08T14:53:52.188171Z",
     "shell.execute_reply": "2025-03-08T14:53:52.186881Z"
    },
    "papermill": {
     "duration": 0.019447,
     "end_time": "2025-03-08T14:53:52.189950",
     "exception": false,
     "start_time": "2025-03-08T14:53:52.170503",
     "status": "completed"
    },
    "tags": []
   },
   "outputs": [],
   "source": [
    "from sklearn.model_selection import GridSearchCV \n",
    "from sklearn.model_selection import RandomizedSearchCV "
   ]
  },
  {
   "cell_type": "code",
   "execution_count": 38,
   "id": "9f5e11d2",
   "metadata": {
    "execution": {
     "iopub.execute_input": "2025-03-08T14:53:52.216404Z",
     "iopub.status.busy": "2025-03-08T14:53:52.216027Z",
     "iopub.status.idle": "2025-03-08T14:53:52.219955Z",
     "shell.execute_reply": "2025-03-08T14:53:52.219278Z"
    },
    "papermill": {
     "duration": 0.018448,
     "end_time": "2025-03-08T14:53:52.221289",
     "exception": false,
     "start_time": "2025-03-08T14:53:52.202841",
     "status": "completed"
    },
    "tags": []
   },
   "outputs": [],
   "source": [
    "def clf_performance(classifier, model_name):\n",
    "    print(model_name)\n",
    "    print('Best Score: ' + str(classifier.best_score_))\n",
    "    print('Best Parameters: ' + str(classifier.best_params_))"
   ]
  },
  {
   "cell_type": "code",
   "execution_count": 39,
   "id": "b20e22f7",
   "metadata": {
    "execution": {
     "iopub.execute_input": "2025-03-08T14:53:52.247454Z",
     "iopub.status.busy": "2025-03-08T14:53:52.247146Z",
     "iopub.status.idle": "2025-03-08T14:53:55.270829Z",
     "shell.execute_reply": "2025-03-08T14:53:55.268462Z"
    },
    "papermill": {
     "duration": 3.039759,
     "end_time": "2025-03-08T14:53:55.273426",
     "exception": false,
     "start_time": "2025-03-08T14:53:52.233667",
     "status": "completed"
    },
    "tags": []
   },
   "outputs": [
    {
     "name": "stdout",
     "output_type": "stream",
     "text": [
      "Fitting 5 folds for each of 40 candidates, totalling 200 fits\n",
      "Logistic Regression\n",
      "Best Score: 0.8279375357074843\n",
      "Best Parameters: {'C': 1.623776739188721, 'max_iter': 2000, 'penalty': 'l1', 'solver': 'liblinear'}\n"
     ]
    }
   ],
   "source": [
    "lr = LogisticRegression()\n",
    "param_grid = {'max_iter' : [2000],\n",
    "              'penalty' : ['l1', 'l2'],\n",
    "              'C' : np.logspace(-4, 4, 20),\n",
    "              'solver' : ['liblinear']}\n",
    "\n",
    "clf_lr = GridSearchCV(lr, param_grid = param_grid, cv = 5, verbose = True, n_jobs = -1)\n",
    "best_clf_lr = clf_lr.fit(X_train_scaled,y_train)\n",
    "clf_performance(best_clf_lr,'Logistic Regression')"
   ]
  },
  {
   "cell_type": "code",
   "execution_count": 40,
   "id": "8aa5c366",
   "metadata": {
    "execution": {
     "iopub.execute_input": "2025-03-08T14:53:55.300135Z",
     "iopub.status.busy": "2025-03-08T14:53:55.299727Z",
     "iopub.status.idle": "2025-03-08T14:53:56.814866Z",
     "shell.execute_reply": "2025-03-08T14:53:56.813721Z"
    },
    "papermill": {
     "duration": 1.530123,
     "end_time": "2025-03-08T14:53:56.816409",
     "exception": false,
     "start_time": "2025-03-08T14:53:55.286286",
     "status": "completed"
    },
    "tags": []
   },
   "outputs": [
    {
     "name": "stdout",
     "output_type": "stream",
     "text": [
      "Fitting 5 folds for each of 48 candidates, totalling 240 fits\n",
      "KNN\n",
      "Best Score: 0.8290611312131023\n",
      "Best Parameters: {'algorithm': 'ball_tree', 'n_neighbors': 7, 'p': 2, 'weights': 'uniform'}\n"
     ]
    }
   ],
   "source": [
    "knn = KNeighborsClassifier()\n",
    "param_grid = {'n_neighbors' : [3,5,7,9],\n",
    "              'weights' : ['uniform', 'distance'],\n",
    "              'algorithm' : ['auto', 'ball_tree','kd_tree'],\n",
    "              'p' : [1,2]}\n",
    "clf_knn = GridSearchCV(knn, param_grid = param_grid, cv = 5, verbose = True, n_jobs = -1)\n",
    "best_clf_knn = clf_knn.fit(X_train_scaled,y_train)\n",
    "clf_performance(best_clf_knn,'KNN')"
   ]
  },
  {
   "cell_type": "code",
   "execution_count": 41,
   "id": "0895afc4",
   "metadata": {
    "execution": {
     "iopub.execute_input": "2025-03-08T14:53:56.844583Z",
     "iopub.status.busy": "2025-03-08T14:53:56.844221Z",
     "iopub.status.idle": "2025-03-08T14:55:02.994415Z",
     "shell.execute_reply": "2025-03-08T14:55:02.991747Z"
    },
    "papermill": {
     "duration": 66.177297,
     "end_time": "2025-03-08T14:55:03.006171",
     "exception": false,
     "start_time": "2025-03-08T14:53:56.828874",
     "status": "completed"
    },
    "tags": []
   },
   "outputs": [
    {
     "name": "stdout",
     "output_type": "stream",
     "text": [
      "Fitting 3 folds for each of 55 candidates, totalling 165 fits\n",
      "SVC\n",
      "Best Score: 0.8335418752085418\n",
      "Best Parameters: {'C': 1, 'degree': 2, 'kernel': 'poly'}\n"
     ]
    }
   ],
   "source": [
    "svc = SVC(probability = True)\n",
    "param_grid = tuned_parameters = [{'kernel': ['rbf'], 'gamma': [.1,.5,1,2,5,10],\n",
    "                                  'C': [.1, 1, 10, 100, 1000]},\n",
    "                                 {'kernel': ['linear'], 'C': [.1, 1, 10, 100, 1000]},\n",
    "                                 {'kernel': ['poly'], 'degree' : [2,3,4,5], 'C': [.1, 1, 10, 100, 1000]}]\n",
    "clf_svc = GridSearchCV(svc, param_grid = param_grid, cv = 3, verbose = True, n_jobs = -1)\n",
    "best_clf_svc = clf_svc.fit(X_train_scaled,y_train)\n",
    "clf_performance(best_clf_svc,'SVC')"
   ]
  },
  {
   "cell_type": "code",
   "execution_count": 42,
   "id": "d08bbfd3",
   "metadata": {
    "execution": {
     "iopub.execute_input": "2025-03-08T14:55:03.036850Z",
     "iopub.status.busy": "2025-03-08T14:55:03.036455Z",
     "iopub.status.idle": "2025-03-08T14:55:03.044171Z",
     "shell.execute_reply": "2025-03-08T14:55:03.043235Z"
    },
    "papermill": {
     "duration": 0.025619,
     "end_time": "2025-03-08T14:55:03.045892",
     "exception": false,
     "start_time": "2025-03-08T14:55:03.020273",
     "status": "completed"
    },
    "tags": []
   },
   "outputs": [
    {
     "data": {
      "text/plain": [
       "\"\\nrf = RandomForestClassifier(random_state = 1)\\nparam_grid =  {'n_estimators': [100,500,1000], \\n                                  'bootstrap': [True,False],\\n                                  'max_depth': [3,5,10,20,50,75,100,None],\\n                                  'max_features': ['auto','sqrt'],\\n                                  'min_samples_leaf': [1,2,4,10],\\n                                  'min_samples_split': [2,5,10]}\\n                                  \\nclf_rf_rnd = RandomizedSearchCV(rf, param_distributions = param_grid, n_iter = 100, cv = 5, verbose = True, n_jobs = -1)\\nbest_clf_rf_rnd = clf_rf_rnd.fit(X_train_scaled,y_train)\\nclf_performance(best_clf_rf_rnd,'Random Forest')\""
      ]
     },
     "execution_count": 42,
     "metadata": {},
     "output_type": "execute_result"
    }
   ],
   "source": [
    "\"\"\"\n",
    "rf = RandomForestClassifier(random_state = 1)\n",
    "param_grid =  {'n_estimators': [100,500,1000], \n",
    "                                  'bootstrap': [True,False],\n",
    "                                  'max_depth': [3,5,10,20,50,75,100,None],\n",
    "                                  'max_features': ['auto','sqrt'],\n",
    "                                  'min_samples_leaf': [1,2,4,10],\n",
    "                                  'min_samples_split': [2,5,10]}\n",
    "                                  \n",
    "clf_rf_rnd = RandomizedSearchCV(rf, param_distributions = param_grid, n_iter = 100, cv = 5, verbose = True, n_jobs = -1)\n",
    "best_clf_rf_rnd = clf_rf_rnd.fit(X_train_scaled,y_train)\n",
    "clf_performance(best_clf_rf_rnd,'Random Forest')\"\"\""
   ]
  },
  {
   "cell_type": "code",
   "execution_count": 43,
   "id": "97a4de5c",
   "metadata": {
    "execution": {
     "iopub.execute_input": "2025-03-08T14:55:03.076333Z",
     "iopub.status.busy": "2025-03-08T14:55:03.075949Z",
     "iopub.status.idle": "2025-03-08T15:02:11.764954Z",
     "shell.execute_reply": "2025-03-08T15:02:11.763655Z"
    },
    "papermill": {
     "duration": 428.718812,
     "end_time": "2025-03-08T15:02:11.778268",
     "exception": false,
     "start_time": "2025-03-08T14:55:03.059456",
     "status": "completed"
    },
    "tags": []
   },
   "outputs": [
    {
     "name": "stdout",
     "output_type": "stream",
     "text": [
      "Fitting 5 folds for each of 288 candidates, totalling 1440 fits\n",
      "Random Forest\n",
      "Best Score: 0.8358027042468101\n",
      "Best Parameters: {'bootstrap': True, 'criterion': 'gini', 'max_depth': 15, 'max_features': 10, 'min_samples_leaf': 3, 'min_samples_split': 2, 'n_estimators': 550}\n"
     ]
    }
   ],
   "source": [
    "rf = RandomForestClassifier(random_state = 1)\n",
    "param_grid =  {'n_estimators': [400,450,500,550],\n",
    "               'criterion':['gini','entropy'],\n",
    "                                  'bootstrap': [True],\n",
    "                                  'max_depth': [15, 20, 25],\n",
    "                                  'max_features': ['auto','sqrt', 10],\n",
    "                                  'min_samples_leaf': [2,3],\n",
    "                                  'min_samples_split': [2,3]}\n",
    "                                  \n",
    "clf_rf = GridSearchCV(rf, param_grid = param_grid, cv = 5, verbose = True, n_jobs = -1)\n",
    "best_clf_rf = clf_rf.fit(X_train_scaled,y_train)\n",
    "clf_performance(best_clf_rf,'Random Forest')"
   ]
  },
  {
   "cell_type": "code",
   "execution_count": 44,
   "id": "680610b1",
   "metadata": {
    "execution": {
     "iopub.execute_input": "2025-03-08T15:02:11.807144Z",
     "iopub.status.busy": "2025-03-08T15:02:11.806776Z",
     "iopub.status.idle": "2025-03-08T15:02:12.830410Z",
     "shell.execute_reply": "2025-03-08T15:02:12.829221Z"
    },
    "papermill": {
     "duration": 1.040737,
     "end_time": "2025-03-08T15:02:12.831949",
     "exception": false,
     "start_time": "2025-03-08T15:02:11.791212",
     "status": "completed"
    },
    "tags": []
   },
   "outputs": [
    {
     "data": {
      "text/plain": [
       "<Axes: >"
      ]
     },
     "execution_count": 44,
     "metadata": {},
     "output_type": "execute_result"
    },
    {
     "data": {
      "image/png": "[encoded data removed]",
      "text/plain": [
       "<Figure size 640x480 with 1 Axes>"
      ]
     },
     "metadata": {},
     "output_type": "display_data"
    }
   ],
   "source": [
    "best_rf = best_clf_rf.best_estimator_.fit(X_train_scaled,y_train)\n",
    "feat_importances = pd.Series(best_rf.feature_importances_, index=X_train_scaled.columns)\n",
    "feat_importances.nlargest(20).plot(kind='barh')"
   ]
  },
  {
   "cell_type": "code",
   "execution_count": 45,
   "id": "4d8f2a5c",
   "metadata": {
    "execution": {
     "iopub.execute_input": "2025-03-08T15:02:12.859459Z",
     "iopub.status.busy": "2025-03-08T15:02:12.859139Z",
     "iopub.status.idle": "2025-03-08T15:02:12.864820Z",
     "shell.execute_reply": "2025-03-08T15:02:12.863645Z"
    },
    "papermill": {
     "duration": 0.021378,
     "end_time": "2025-03-08T15:02:12.866651",
     "exception": false,
     "start_time": "2025-03-08T15:02:12.845273",
     "status": "completed"
    },
    "tags": []
   },
   "outputs": [
    {
     "data": {
      "text/plain": [
       "\"xgb = XGBClassifier(random_state = 1)\\n\\nparam_grid = {\\n    'n_estimators': [20, 50, 100, 250, 500,1000],\\n    'colsample_bytree': [0.2, 0.5, 0.7, 0.8, 1],\\n    'max_depth': [2, 5, 10, 15, 20, 25, None],\\n    'reg_alpha': [0, 0.5, 1],\\n    'reg_lambda': [1, 1.5, 2],\\n    'subsample': [0.5,0.6,0.7, 0.8, 0.9],\\n    'learning_rate':[.01,0.1,0.2,0.3,0.5, 0.7, 0.9],\\n    'gamma':[0,.01,.1,1,10,100],\\n    'min_child_weight':[0,.01,0.1,1,10,100],\\n    'sampling_method': ['uniform', 'gradient_based']\\n}\\n\\n#clf_xgb = GridSearchCV(xgb, param_grid = param_grid, cv = 5, verbose = True, n_jobs = -1)\\n#best_clf_xgb = clf_xgb.fit(X_train_scaled,y_train)\\n#clf_performance(best_clf_xgb,'XGB')\\nclf_xgb_rnd = RandomizedSearchCV(xgb, param_distributions = param_grid, n_iter = 1000, cv = 5, verbose = True, n_jobs = -1)\\nbest_clf_xgb_rnd = clf_xgb_rnd.fit(X_train_scaled,y_train)\\nclf_performance(best_clf_xgb_rnd,'XGB')\""
      ]
     },
     "execution_count": 45,
     "metadata": {},
     "output_type": "execute_result"
    }
   ],
   "source": [
    "\"\"\"xgb = XGBClassifier(random_state = 1)\n",
    "\n",
    "param_grid = {\n",
    "    'n_estimators': [20, 50, 100, 250, 500,1000],\n",
    "    'colsample_bytree': [0.2, 0.5, 0.7, 0.8, 1],\n",
    "    'max_depth': [2, 5, 10, 15, 20, 25, None],\n",
    "    'reg_alpha': [0, 0.5, 1],\n",
    "    'reg_lambda': [1, 1.5, 2],\n",
    "    'subsample': [0.5,0.6,0.7, 0.8, 0.9],\n",
    "    'learning_rate':[.01,0.1,0.2,0.3,0.5, 0.7, 0.9],\n",
    "    'gamma':[0,.01,.1,1,10,100],\n",
    "    'min_child_weight':[0,.01,0.1,1,10,100],\n",
    "    'sampling_method': ['uniform', 'gradient_based']\n",
    "}\n",
    "\n",
    "#clf_xgb = GridSearchCV(xgb, param_grid = param_grid, cv = 5, verbose = True, n_jobs = -1)\n",
    "#best_clf_xgb = clf_xgb.fit(X_train_scaled,y_train)\n",
    "#clf_performance(best_clf_xgb,'XGB')\n",
    "clf_xgb_rnd = RandomizedSearchCV(xgb, param_distributions = param_grid, n_iter = 1000, cv = 5, verbose = True, n_jobs = -1)\n",
    "best_clf_xgb_rnd = clf_xgb_rnd.fit(X_train_scaled,y_train)\n",
    "clf_performance(best_clf_xgb_rnd,'XGB')\"\"\""
   ]
  },
  {
   "cell_type": "code",
   "execution_count": 46,
   "id": "7cf98991",
   "metadata": {
    "execution": {
     "iopub.execute_input": "2025-03-08T15:02:12.896332Z",
     "iopub.status.busy": "2025-03-08T15:02:12.895954Z",
     "iopub.status.idle": "2025-03-08T15:02:50.367749Z",
     "shell.execute_reply": "2025-03-08T15:02:50.366417Z"
    },
    "papermill": {
     "duration": 37.502915,
     "end_time": "2025-03-08T15:02:50.383745",
     "exception": false,
     "start_time": "2025-03-08T15:02:12.880830",
     "status": "completed"
    },
    "tags": []
   },
   "outputs": [
    {
     "name": "stdout",
     "output_type": "stream",
     "text": [
      "Fitting 3 folds for each of 243 candidates, totalling 729 fits\n",
      "XGB\n",
      "Best Score: 0.8369316285982952\n",
      "Best Parameters: {'colsample_bytree': 0.8, 'gamma': 1, 'learning_rate': 0.5, 'max_depth': None, 'min_child_weight': 0.01, 'n_estimators': 500, 'reg_alpha': 1, 'reg_lambda': 2, 'sampling_method': 'uniform', 'subsample': 0.6}\n"
     ]
    }
   ],
   "source": [
    "xgb = XGBClassifier(random_state = 1)\n",
    "\n",
    "param_grid = {\n",
    "    'n_estimators': [450,500,550],\n",
    "    'colsample_bytree': [0.75,0.8,0.85],\n",
    "    'max_depth': [None],\n",
    "    'reg_alpha': [1],\n",
    "    'reg_lambda': [2, 5, 10],\n",
    "    'subsample': [0.55, 0.6, .65],\n",
    "    'learning_rate':[0.5],\n",
    "    'gamma':[.5,1,2],\n",
    "    'min_child_weight':[0.01],\n",
    "    'sampling_method': ['uniform']\n",
    "}\n",
    "\n",
    "clf_xgb = GridSearchCV(xgb, param_grid = param_grid, cv = 3, verbose = True, n_jobs = -1)\n",
    "best_clf_xgb = clf_xgb.fit(X_train_scaled,y_train)\n",
    "clf_performance(best_clf_xgb,'XGB')"
   ]
  },
  {
   "cell_type": "code",
   "execution_count": 47,
   "id": "92855794",
   "metadata": {
    "execution": {
     "iopub.execute_input": "2025-03-08T15:02:50.417112Z",
     "iopub.status.busy": "2025-03-08T15:02:50.416718Z",
     "iopub.status.idle": "2025-03-08T15:02:50.436946Z",
     "shell.execute_reply": "2025-03-08T15:02:50.435532Z"
    },
    "papermill": {
     "duration": 0.040535,
     "end_time": "2025-03-08T15:02:50.439412",
     "exception": false,
     "start_time": "2025-03-08T15:02:50.398877",
     "status": "completed"
    },
    "tags": []
   },
   "outputs": [],
   "source": [
    "y_hat_xgb = best_clf_xgb.best_estimator_.predict(X_test_scaled).astype(int)\n",
    "xgb_submission = {'PassengerId': test.PassengerId, 'Survived': y_hat_xgb}\n",
    "submission_xgb = pd.DataFrame(data=xgb_submission)\n",
    "submission_xgb.to_csv('xgb_submission3.csv', index=False)"
   ]
  },
  {
   "cell_type": "markdown",
   "id": "547d5eb8",
   "metadata": {
    "papermill": {
     "duration": 0.014459,
     "end_time": "2025-03-08T15:02:50.469277",
     "exception": false,
     "start_time": "2025-03-08T15:02:50.454818",
     "status": "completed"
    },
    "tags": []
   },
   "source": [
    "**Model Additional Ensemble Approaches**"
   ]
  },
  {
   "cell_type": "code",
   "execution_count": 48,
   "id": "8ae18f0a",
   "metadata": {
    "execution": {
     "iopub.execute_input": "2025-03-08T15:02:50.501212Z",
     "iopub.status.busy": "2025-03-08T15:02:50.500851Z",
     "iopub.status.idle": "2025-03-08T15:03:26.211654Z",
     "shell.execute_reply": "2025-03-08T15:03:26.210823Z"
    },
    "papermill": {
     "duration": 35.730201,
     "end_time": "2025-03-08T15:03:26.214329",
     "exception": false,
     "start_time": "2025-03-08T15:02:50.484128",
     "status": "completed"
    },
    "tags": []
   },
   "outputs": [
    {
     "name": "stdout",
     "output_type": "stream",
     "text": [
      "voting_clf_hard : [0.80337079 0.82022472 0.84831461 0.7752809  0.85875706]\n",
      "voting_clf_hard mean : 0.8211896146765694\n",
      "voting_clf_soft : [0.78089888 0.80337079 0.84269663 0.78651685 0.85875706]\n",
      "voting_clf_soft mean : 0.8144480416428618\n",
      "voting_clf_all : [0.82022472 0.81460674 0.84269663 0.80898876 0.88135593]\n",
      "voting_clf_all mean : 0.8335745572271949\n",
      "voting_clf_xgb : [0.84269663 0.81460674 0.85955056 0.81460674 0.85875706]\n",
      "voting_clf_xgb mean : 0.8380435472608392\n"
     ]
    }
   ],
   "source": [
    "best_lr = best_clf_lr.best_estimator_\n",
    "best_knn = best_clf_knn.best_estimator_\n",
    "best_svc = best_clf_svc.best_estimator_\n",
    "best_rf = best_clf_rf.best_estimator_\n",
    "best_xgb = best_clf_xgb.best_estimator_\n",
    "\n",
    "voting_clf_hard = VotingClassifier(estimators = [('knn',best_knn),('rf',best_rf),('svc',best_svc)], voting = 'hard') \n",
    "voting_clf_soft = VotingClassifier(estimators = [('knn',best_knn),('rf',best_rf),('svc',best_svc)], voting = 'soft') \n",
    "voting_clf_all = VotingClassifier(estimators = [('knn',best_knn),('rf',best_rf),('svc',best_svc), ('lr', best_lr)], voting = 'soft') \n",
    "voting_clf_xgb = VotingClassifier(estimators = [('knn',best_knn),('rf',best_rf),('svc',best_svc), ('xgb', best_xgb),('lr', best_lr)], voting = 'soft')\n",
    "\n",
    "print('voting_clf_hard :',cross_val_score(voting_clf_hard,X_train,y_train,cv=5))\n",
    "print('voting_clf_hard mean :',cross_val_score(voting_clf_hard,X_train,y_train,cv=5).mean())\n",
    "\n",
    "print('voting_clf_soft :',cross_val_score(voting_clf_soft,X_train,y_train,cv=5))\n",
    "print('voting_clf_soft mean :',cross_val_score(voting_clf_soft,X_train,y_train,cv=5).mean())\n",
    "\n",
    "print('voting_clf_all :',cross_val_score(voting_clf_all,X_train,y_train,cv=5))\n",
    "print('voting_clf_all mean :',cross_val_score(voting_clf_all,X_train,y_train,cv=5).mean())\n",
    "\n",
    "print('voting_clf_xgb :',cross_val_score(voting_clf_xgb,X_train,y_train,cv=5))\n",
    "print('voting_clf_xgb mean :',cross_val_score(voting_clf_xgb,X_train,y_train,cv=5).mean())"
   ]
  },
  {
   "cell_type": "code",
   "execution_count": 49,
   "id": "6194c31e",
   "metadata": {
    "execution": {
     "iopub.execute_input": "2025-03-08T15:03:26.245144Z",
     "iopub.status.busy": "2025-03-08T15:03:26.244762Z",
     "iopub.status.idle": "2025-03-08T15:03:40.357342Z",
     "shell.execute_reply": "2025-03-08T15:03:40.355786Z"
    },
    "papermill": {
     "duration": 14.129535,
     "end_time": "2025-03-08T15:03:40.358777",
     "exception": false,
     "start_time": "2025-03-08T15:03:26.229242",
     "status": "completed"
    },
    "tags": []
   },
   "outputs": [
    {
     "name": "stdout",
     "output_type": "stream",
     "text": [
      "Fitting 5 folds for each of 7 candidates, totalling 35 fits\n",
      "VC Weights\n",
      "Best Score: 0.8324446137243701\n",
      "Best Parameters: {'weights': [2, 2, 1]}\n"
     ]
    }
   ],
   "source": [
    "params = {'weights' : [[1,1,1],[1,2,1],[1,1,2],[2,1,1],[2,2,1],[1,2,2],[2,1,2]]}\n",
    "\n",
    "vote_weight = GridSearchCV(voting_clf_soft, param_grid = params, cv = 5, verbose = True, n_jobs = -1)\n",
    "best_clf_weight = vote_weight.fit(X_train_scaled,y_train)\n",
    "clf_performance(best_clf_weight,'VC Weights')\n",
    "voting_clf_sub = best_clf_weight.best_estimator_.predict(X_test_scaled)"
   ]
  },
  {
   "cell_type": "code",
   "execution_count": 50,
   "id": "aac8e945",
   "metadata": {
    "execution": {
     "iopub.execute_input": "2025-03-08T15:03:40.388044Z",
     "iopub.status.busy": "2025-03-08T15:03:40.387695Z",
     "iopub.status.idle": "2025-03-08T15:03:45.276787Z",
     "shell.execute_reply": "2025-03-08T15:03:45.276008Z"
    },
    "papermill": {
     "duration": 4.90623,
     "end_time": "2025-03-08T15:03:45.278809",
     "exception": false,
     "start_time": "2025-03-08T15:03:40.372579",
     "status": "completed"
    },
    "tags": []
   },
   "outputs": [],
   "source": [
    "#Make Predictions \n",
    "voting_clf_hard.fit(X_train_scaled, y_train)\n",
    "voting_clf_soft.fit(X_train_scaled, y_train)\n",
    "voting_clf_all.fit(X_train_scaled, y_train)\n",
    "voting_clf_xgb.fit(X_train_scaled, y_train)\n",
    "\n",
    "best_rf.fit(X_train_scaled, y_train)\n",
    "y_hat_vc_hard = voting_clf_hard.predict(X_test_scaled).astype(int)\n",
    "y_hat_rf = best_rf.predict(X_test_scaled).astype(int)\n",
    "y_hat_vc_soft =  voting_clf_soft.predict(X_test_scaled).astype(int)\n",
    "y_hat_vc_all = voting_clf_all.predict(X_test_scaled).astype(int)\n",
    "y_hat_vc_xgb = voting_clf_xgb.predict(X_test_scaled).astype(int)"
   ]
  },
  {
   "cell_type": "code",
   "execution_count": 51,
   "id": "3162b25a",
   "metadata": {
    "execution": {
     "iopub.execute_input": "2025-03-08T15:03:45.310037Z",
     "iopub.status.busy": "2025-03-08T15:03:45.309634Z",
     "iopub.status.idle": "2025-03-08T15:03:45.317313Z",
     "shell.execute_reply": "2025-03-08T15:03:45.316268Z"
    },
    "papermill": {
     "duration": 0.025362,
     "end_time": "2025-03-08T15:03:45.319198",
     "exception": false,
     "start_time": "2025-03-08T15:03:45.293836",
     "status": "completed"
    },
    "tags": []
   },
   "outputs": [],
   "source": [
    "#convert output to dataframe \n",
    "final_data = {'PassengerId': test.PassengerId, 'Survived': y_hat_rf}\n",
    "submission = pd.DataFrame(data=final_data)\n",
    "\n",
    "final_data_2 = {'PassengerId': test.PassengerId, 'Survived': y_hat_vc_hard}\n",
    "submission_2 = pd.DataFrame(data=final_data_2)\n",
    "\n",
    "final_data_3 = {'PassengerId': test.PassengerId, 'Survived': y_hat_vc_soft}\n",
    "submission_3 = pd.DataFrame(data=final_data_3)\n",
    "\n",
    "final_data_4 = {'PassengerId': test.PassengerId, 'Survived': y_hat_vc_all}\n",
    "submission_4 = pd.DataFrame(data=final_data_4)\n",
    "\n",
    "final_data_5 = {'PassengerId': test.PassengerId, 'Survived': y_hat_vc_xgb}\n",
    "submission_5 = pd.DataFrame(data=final_data_5)\n",
    "\n",
    "final_data_comp = {'PassengerId': test.PassengerId, 'Survived_vc_hard': y_hat_vc_hard, 'Survived_rf': y_hat_rf, 'Survived_vc_soft' : y_hat_vc_soft, 'Survived_vc_all' : y_hat_vc_all,  'Survived_vc_xgb' : y_hat_vc_xgb}\n",
    "comparison = pd.DataFrame(data=final_data_comp)"
   ]
  },
  {
   "cell_type": "code",
   "execution_count": 52,
   "id": "057265eb",
   "metadata": {
    "execution": {
     "iopub.execute_input": "2025-03-08T15:03:45.350082Z",
     "iopub.status.busy": "2025-03-08T15:03:45.349701Z",
     "iopub.status.idle": "2025-03-08T15:03:45.371867Z",
     "shell.execute_reply": "2025-03-08T15:03:45.371008Z"
    },
    "papermill": {
     "duration": 0.039967,
     "end_time": "2025-03-08T15:03:45.373581",
     "exception": false,
     "start_time": "2025-03-08T15:03:45.333614",
     "status": "completed"
    },
    "tags": []
   },
   "outputs": [],
   "source": [
    "#track differences between outputs \n",
    "comparison['difference_rf_vc_hard'] = comparison.apply(lambda x: 1 if x.Survived_vc_hard != x.Survived_rf else 0, axis =1)\n",
    "comparison['difference_soft_hard'] = comparison.apply(lambda x: 1 if x.Survived_vc_hard != x.Survived_vc_soft else 0, axis =1)\n",
    "comparison['difference_hard_all'] = comparison.apply(lambda x: 1 if x.Survived_vc_all != x.Survived_vc_hard else 0, axis =1)"
   ]
  },
  {
   "cell_type": "code",
   "execution_count": 53,
   "id": "59ca9e80",
   "metadata": {
    "execution": {
     "iopub.execute_input": "2025-03-08T15:03:45.411159Z",
     "iopub.status.busy": "2025-03-08T15:03:45.410754Z",
     "iopub.status.idle": "2025-03-08T15:03:45.418378Z",
     "shell.execute_reply": "2025-03-08T15:03:45.416686Z"
    },
    "papermill": {
     "duration": 0.030455,
     "end_time": "2025-03-08T15:03:45.420407",
     "exception": false,
     "start_time": "2025-03-08T15:03:45.389952",
     "status": "completed"
    },
    "tags": []
   },
   "outputs": [
    {
     "data": {
      "text/plain": [
       "difference_hard_all\n",
       "0    410\n",
       "1      8\n",
       "Name: count, dtype: int64"
      ]
     },
     "execution_count": 53,
     "metadata": {},
     "output_type": "execute_result"
    }
   ],
   "source": [
    "\n",
    "\n",
    "comparison.difference_hard_all.value_counts()"
   ]
  },
  {
   "cell_type": "code",
   "execution_count": 54,
   "id": "3d87e31f",
   "metadata": {
    "execution": {
     "iopub.execute_input": "2025-03-08T15:03:45.450222Z",
     "iopub.status.busy": "2025-03-08T15:03:45.449810Z",
     "iopub.status.idle": "2025-03-08T15:03:45.459789Z",
     "shell.execute_reply": "2025-03-08T15:03:45.458552Z"
    },
    "papermill": {
     "duration": 0.026663,
     "end_time": "2025-03-08T15:03:45.461550",
     "exception": false,
     "start_time": "2025-03-08T15:03:45.434887",
     "status": "completed"
    },
    "tags": []
   },
   "outputs": [],
   "source": [
    "#prepare submission files \n",
    "submission.to_csv('submission_rf.csv', index =False)\n",
    "submission_2.to_csv('submission_vc_hard.csv',index=False)\n",
    "submission_3.to_csv('submission_vc_soft.csv', index=False)\n",
    "submission_4.to_csv('submission_vc_all.csv', index=False)\n",
    "submission_5.to_csv('submission_vc_xgb2.csv', index=False)"
   ]
  },
  {
   "cell_type": "code",
   "execution_count": null,
   "id": "71541f71",
   "metadata": {
    "papermill": {
     "duration": 0.015431,
     "end_time": "2025-03-08T15:03:45.492379",
     "exception": false,
     "start_time": "2025-03-08T15:03:45.476948",
     "status": "completed"
    },
    "tags": []
   },
   "outputs": [],
   "source": []
  }
 ],
 "metadata": {
  "kaggle": {
   "accelerator": "none",
   "dataSources": [
    {
     "databundleVersionId": 26502,
     "sourceId": 3136,
     "sourceType": "competition"
    }
   ],
   "dockerImageVersionId": 30918,
   "isGpuEnabled": false,
   "isInternetEnabled": false,
   "language": "python",
   "sourceType": "notebook"
  },
  "kernelspec": {
   "display_name": "Python 3",
   "language": "python",
   "name": "python3"
  },
  "language_info": {
   "codemirror_mode": {
    "name": "ipython",
    "version": 3
   },
   "file_extension": ".py",
   "mimetype": "text/x-python",
   "name": "python",
   "nbconvert_exporter": "python",
   "pygments_lexer": "ipython3",
   "version": "3.10.12"
  },
  "papermill": {
   "default_parameters": {},
   "duration": 615.4069,
   "end_time": "2025-03-08T15:03:46.532449",
   "environment_variables": {},
   "exception": null,
   "input_path": "__notebook__.ipynb",
   "output_path": "__notebook__.ipynb",
   "parameters": {},
   "start_time": "2025-03-08T14:53:31.125549",
   "version": "2.6.0"
  }
 },
 "nbformat": 4,
 "nbformat_minor": 5
}
